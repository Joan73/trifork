{
 "cells": [
  {
   "cell_type": "code",
   "execution_count": 1,
   "id": "87bc8250",
   "metadata": {},
   "outputs": [],
   "source": [
    "import os\n",
    "from pathlib import Path\n",
    "from PIL import Image, ImageDraw\n",
    "import re\n",
    "import numpy as np"
   ]
  },
  {
   "cell_type": "markdown",
   "id": "5d88ceb2",
   "metadata": {},
   "source": [
    "## First solution"
   ]
  },
  {
   "cell_type": "code",
   "execution_count": 2,
   "id": "00bb0ab2",
   "metadata": {},
   "outputs": [
    {
     "name": "stdout",
     "output_type": "stream",
     "text": [
      "set()\n",
      "set()\n"
     ]
    }
   ],
   "source": [
    "# Check if filenames are equal in both the image and annotations folder\n",
    "image_names = os.listdir('../data/images')\n",
    "annotations = os.listdir('../data/kitti_annotations')\n",
    "\n",
    "file_image_no_extension = [re.sub(r'\\.jpg$', '', image_name) for image_name in image_names]\n",
    "file_annotations_no_extension = [re.sub(r'\\.txt$', '', filename) for filename in annotations]\n",
    "\n",
    "print(set(file_image_no_extension)==set(file_annotations_no_extension))"
   ]
  },
  {
   "cell_type": "code",
   "execution_count": 3,
   "id": "d2f2560c",
   "metadata": {},
   "outputs": [],
   "source": [
    "# Function to scale the bounding box\n",
    "def scale_bounding_box(width, height, bounding_box, target_size):\n",
    "    # Compute scaled width and height\n",
    "    width_scale = target_size/width\n",
    "    height_scale = target_size/height\n",
    "\n",
    "    # Compute scaled bounding box coordinates\n",
    "    x_min_scale = int(np.round(bounding_box[0] * width_scale))\n",
    "    y_min_scale = int(np.round(bounding_box[1] * height_scale))\n",
    "    x_max_scale = int(np.round(bounding_box[2] * width_scale))\n",
    "    y_max_scale = int(np.round(bounding_box[3] * height_scale))\n",
    "    \n",
    "    return x_min_scale, y_min_scale, x_max_scale, y_max_scale"
   ]
  },
  {
   "cell_type": "code",
   "execution_count": 4,
   "id": "7df00ce0",
   "metadata": {},
   "outputs": [],
   "source": [
    "# Static variables\n",
    "filenames = file_image_no_extension\n",
    "target_size = 284\n",
    "target_folder = '../output'\n",
    "\n",
    "# Create output folder\n",
    "if not Path(os.fspath(target_folder)).exists():\n",
    "    Path(os.fspath(target_folder)).mkdir()\n",
    "\n",
    "Path(os.fspath(os.path.join(target_folder, 'images'))).mkdir()\n",
    "Path(os.fspath(os.path.join(target_folder, 'annotations'))).mkdir()\n",
    "        \n",
    "# Iterate over all filenames\n",
    "for filename in filenames:\n",
    "    \n",
    "    # Paths to image and annotations folder\n",
    "    path_to_annotations = os.path.join('../data/kitti_annotations', filename +'.txt')\n",
    "    path_to_image = os.path.join('../data/images', filename+'.jpg')\n",
    "    \n",
    "    # Paths to image and annotations scaled folder\n",
    "    path_to_scaled_annotations = os.path.join(target_folder, 'annotations', filename+'.txt')\n",
    "    path_to_scaled_image = os.path.join(target_folder, 'images', filename+'.jpg')\n",
    "    \n",
    "    # Create image and get width and height\n",
    "    image = Image.open(path_to_image)\n",
    "    width, height = image.size\n",
    "    \n",
    "    # Open annotation file and get all object annotations\n",
    "    with open(path_to_annotations, 'r') as file:\n",
    "        object_annotations = file.readlines()\n",
    "    \n",
    "     \n",
    "    with open(path_to_scaled_annotations, 'w') as file:\n",
    "        \n",
    "        for obj in object_annotations:\n",
    "            \n",
    "            labels = re.findall(r'[-]*[0-9]+[.]*[0-9]*', obj)\n",
    "\n",
    "            bounding_box_coord = [int(label) for label in labels[3:7]]\n",
    "            x_min_scale, y_min_scale, x_max_scale, y_max_scale = scale_bounding_box(width, height, bounding_box_coord, target_size)\n",
    "            labels[3:7] = x_min_scale, y_min_scale, x_max_scale, y_max_scale\n",
    "            object_scaled = ' '.join(str(label) for label in labels)\n",
    "            annotation_scaled = re.findall(r'[a-zA-Z]+', obj)[0]+' '+object_scaled\n",
    "            \n",
    "            file.write(annotation_scaled+'\\n')\n",
    "        \n",
    "    \n",
    "    # Scale and save image\n",
    "    image.resize((target_size, target_size))   \n",
    "    image.save(path_to_scaled_image)\n",
    "    "
   ]
  }
 ],
 "metadata": {
  "kernelspec": {
   "display_name": "Python 3",
   "language": "python",
   "name": "python3"
  },
  "language_info": {
   "codemirror_mode": {
    "name": "ipython",
    "version": 3
   },
   "file_extension": ".py",
   "mimetype": "text/x-python",
   "name": "python",
   "nbconvert_exporter": "python",
   "pygments_lexer": "ipython3",
   "version": "3.8.8"
  }
 },
 "nbformat": 4,
 "nbformat_minor": 5
}
